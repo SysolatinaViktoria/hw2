{
  "nbformat": 4,
  "nbformat_minor": 0,
  "metadata": {
    "colab": {
      "provenance": []
    },
    "kernelspec": {
      "name": "python3",
      "display_name": "Python 3"
    },
    "language_info": {
      "name": "python"
    }
  },
  "cells": [
    {
      "cell_type": "markdown",
      "source": [
        "## 1. Подсчет количества дней\n",
        "\n",
        "Создай целочисленные переменные, которые отвечают за:\n",
        "- количество дней для проращивания семян\n",
        "- количество дней для выращивания рассады\n",
        "- количество дней до плодоношения\n",
        "\n",
        "Сложи все три переменные. Выведи на экран результат - число дней от момента начала проращивания семян до момента, когда созреют помидоры."
      ],
      "metadata": {
        "id": "xPCW0t6jIduY"
      }
    },
    {
      "cell_type": "code",
      "execution_count": 4,
      "metadata": {
        "id": "O6sEcKdFIMZb",
        "colab": {
          "base_uri": "https://localhost:8080/"
        },
        "outputId": "3ed6236d-387c-4f37-93c0-bd72afa06f3f"
      },
      "outputs": [
        {
          "output_type": "stream",
          "name": "stdout",
          "text": [
            "6\n"
          ]
        }
      ],
      "source": [
        "days_seeds=1\n",
        "days_grow=2\n",
        "days_fruit=3\n",
        "print(days_seeds+days_grow+days_fruit)"
      ]
    },
    {
      "cell_type": "markdown",
      "source": [
        "## 2. Сохранение данных о сорте.\n",
        "\n",
        "Продуктивность сорта считается по простой формуле - [количество кг, собранных со всех кустов] / [количество кустов]\n",
        "\n",
        "Считай с клавиатуры количество килограмм, собранных со всех кустов и количество кустов (целые числа). Подели и округли до 2 знаков после запятой, результат выведи на экран."
      ],
      "metadata": {
        "id": "ZmLLCikNIAdT"
      }
    },
    {
      "cell_type": "code",
      "execution_count": 9,
      "metadata": {
        "id": "IWNzBK6AIouo",
        "colab": {
          "base_uri": "https://localhost:8080/"
        },
        "outputId": "161472b9-bb74-41f6-c126-4f5c3f6afe03"
      },
      "outputs": [
        {
          "output_type": "stream",
          "name": "stdout",
          "text": [
            "4\n",
            "5\n",
            "0.8\n"
          ]
        }
      ],
      "source": [
        "x = int(input())\n",
        "y = int(input())\n",
        "print(round(x/y, 2))"
      ]
    },
    {
      "cell_type": "markdown",
      "source": [
        "## 3. Средняя сладость клубники.\n",
        "\n",
        "Ваша бабушка решила поспорить с соседкой, у кого клубника более сладкая. Они посадили кусты и потом оценили сладость клубники, собранной с каждого из кустов, по шкале от 0 до 10. Ваша задача - посчитать среднее для двух массивов и определить, у кого слаще клубника в среднем."
      ],
      "metadata": {
        "id": "O9dAr1NdJpyT"
      }
    },
    {
      "cell_type": "code",
      "execution_count": 23,
      "metadata": {
        "id": "oy8HPWpiIpOv",
        "colab": {
          "base_uri": "https://localhost:8080/"
        },
        "outputId": "9d0f5ffd-ca06-4545-e10b-d6aa780165a5"
      },
      "outputs": [
        {
          "output_type": "stream",
          "name": "stdout",
          "text": [
            "Grandma wins!\n"
          ]
        }
      ],
      "source": [
        "grandma_strawberries = [5, 7, 10, 9, 3, 10]\n",
        "neighbour_strawberries = [10, 6, 2, 3]\n",
        "s_g, s_n=0, 0\n",
        "\n",
        "for i in grandma_strawberries:\n",
        "  s_g+=i\n",
        "for j in neighbour_strawberries:\n",
        "  s_n+=j\n",
        "avg_g, avg_n = s_g/len(grandma_strawberries), s_n/len(neighbour_strawberries)\n",
        "if avg_g > avg_n:\n",
        "  print(\"Grandma wins!\")\n",
        "elif avg_g < avg_n:\n",
        "  print(\"Neighbour wins!\")\n",
        "else:\n",
        "  print(\"Draw!\")"
      ]
    },
    {
      "cell_type": "markdown",
      "source": [
        "## 4. Список растений на даче.\n",
        "\n",
        "У вас есть список растений на даче у бабушки. <font color=\"#8000FF\"> При помощи форматирования строк </font> выведите список растений **в алфавитном порядке** в виде:\n",
        "\n",
        "N. Название растения."
      ],
      "metadata": {
        "id": "EYjJBGLsRC4y"
      }
    },
    {
      "cell_type": "code",
      "execution_count": 21,
      "metadata": {
        "id": "z2_PuewtIpWs",
        "colab": {
          "base_uri": "https://localhost:8080/"
        },
        "outputId": "d878e778-b466-4539-8875-4de4fa3f00d0"
      },
      "outputs": [
        {
          "output_type": "stream",
          "name": "stdout",
          "text": [
            "1. Картошка.\n",
            "2. Клубника.\n",
            "3. Мальва.\n",
            "4. Огурцы.\n",
            "5. Подсолнухи.\n",
            "6. Томаты.\n",
            "7. Флоксы.\n",
            "8. Хосты.\n"
          ]
        }
      ],
      "source": [
        "plant = [\"мальва\", \"клубника\", \"томаты\", \"огурцы\", \"флоксы\", \"картошка\", \"подсолнухи\", \"хосты\"]\n",
        "plants = sorted(plant)\n",
        "for i in range(len(plants)):\n",
        "  print(\"{0}. {1}.\".format(i+1, plants[i].capitalize()))"
      ]
    },
    {
      "cell_type": "markdown",
      "source": [
        "## 5. Погода на улице.\n",
        "\n",
        "Сейчас весна, у вашей бабушки уже высажена рассада перцев в парник. Однако она боится заморозков. Ваша задача - считать с клавиатуры значение температуры:\n",
        "\n",
        "Если t<5, надо вывести \"Пожалуйста, закрой полностью парник - на улице холодно\";\n",
        "\n",
        "Если t от 5 до 10, надо вывести \"Пожалуйста, прикрой парник - на улице прохладно\";\n",
        "\n",
        "Если t больше 10, надо вывести \"Пожалуйста, открой полностью парник - на улице тепло\"."
      ],
      "metadata": {
        "id": "amXMFPIxKq7s"
      }
    },
    {
      "cell_type": "code",
      "execution_count": 26,
      "metadata": {
        "id": "F9Xwk-ldIpeY",
        "colab": {
          "base_uri": "https://localhost:8080/"
        },
        "outputId": "33c6e029-5786-4d24-96f9-9422ac234b3b"
      },
      "outputs": [
        {
          "output_type": "stream",
          "name": "stdout",
          "text": [
            "4.4\n",
            "Пожалуйста, закрой полностью парник - на улице холодно\n"
          ]
        }
      ],
      "source": [
        "x=float(input())\n",
        "if x<5:\n",
        "  print(\"Пожалуйста, закрой полностью парник - на улице холодно\")\n",
        "elif x>=5 and x<=10:\n",
        "  print(\"Пожалуйста, прикрой парник - на улице прохладно\")\n",
        "else: print(\"Пожалуйста, открой полностью парник - на улице тепло\")"
      ]
    },
    {
      "cell_type": "markdown",
      "source": [
        "## 6. Список любимых томатов.\n",
        "\n",
        "У вашей бабушки есть любимые сорта томатов, но не все из них она посадила в этом году. У вас есть словарь, где ключ - название сорта, а по значению лежит количество кустов, высаженных в этом году.\n",
        "\n",
        "Ваша задача - вывести список сортов, которые были высажены в этом году (если высажено 0 кустов, то этот сорт в этом году не сажался)."
      ],
      "metadata": {
        "id": "AoT449EwIoN0"
      }
    },
    {
      "cell_type": "code",
      "execution_count": 27,
      "metadata": {
        "id": "r61uXx7PIpkJ",
        "colab": {
          "base_uri": "https://localhost:8080/"
        },
        "outputId": "e4c1a2b8-f6a6-4cd5-dcfa-54ec9094401b"
      },
      "outputs": [
        {
          "output_type": "stream",
          "name": "stdout",
          "text": [
            "Бычье сердце\n",
            "Любаша\n",
            "Космонавт Волков\n",
            "Монеточка\n"
          ]
        }
      ],
      "source": [
        "tomatoes = {\"Бычье сердце\": 4, \"Любаша\": 1, \"Титаник\": 0, \"Космонавт Волков\": 7}\n",
        "tomatoes[\"Монеточка\"] = 5\n",
        "\n",
        "for key in tomatoes.keys():\n",
        "  if tomatoes[key] != 0:\n",
        "    print(key)"
      ]
    },
    {
      "cell_type": "markdown",
      "source": [
        "## 7. Словари.\n",
        "\n",
        "Создайте словарь, где ключами будут числа от 0 до 20 включительно, а значения -\n",
        "1. -1, если значение ключа делится на 5\n",
        "2. 1 иначе\n",
        "\n",
        "\n",
        "<font color=\"#8000FF\"> Используйте comprehensions </font>"
      ],
      "metadata": {
        "id": "M7EBZSFGLiVy"
      }
    },
    {
      "cell_type": "code",
      "execution_count": 31,
      "metadata": {
        "id": "2JxdQGZJIppV",
        "colab": {
          "base_uri": "https://localhost:8080/"
        },
        "outputId": "c00bd7c1-2903-4310-e0bf-287607262aac"
      },
      "outputs": [
        {
          "output_type": "stream",
          "name": "stdout",
          "text": [
            "{0: -1, 1: 1, 2: 1, 3: 1, 4: 1, 5: -1, 6: 1, 7: 1, 8: 1, 9: 1, 10: -1, 11: 1, 12: 1, 13: 1, 14: 1, 15: -1, 16: 1, 17: 1, 18: 1, 19: 1, 20: -1}\n"
          ]
        }
      ],
      "source": [
        "my_dict = {i: -1 if i%5==0 else 1 for i in range(21)}"
      ]
    },
    {
      "cell_type": "markdown",
      "source": [
        "## 8. Ох уж эти корейцы\n",
        "\n",
        "Вам дан список с возрастами людей в одной неизвестной корейской фирме. Вышел новый закон, который постановляет, что теперь возраст сотрудников считается не традиционным способом, а по факту рождения. Менеджер компании попросил вас перезаполнить базу данных, обновив возраст сотрудников по правилу:\n",
        "\n",
        "$age = (age + 1)$\n",
        "\n",
        " <font color=\"#8000FF\"> Используйте функцию `map`</font>"
      ],
      "metadata": {
        "id": "ZTrqV-ixUhcj"
      }
    },
    {
      "cell_type": "code",
      "source": [
        "import random\n",
        "ages = random.choices(list(range(20, 65)), k=100500)\n",
        "\n",
        "new_age = list(map(lambda x: x+1, ages))"
      ],
      "metadata": {
        "id": "60H4Zi4eMSQp"
      },
      "execution_count": 36,
      "outputs": []
    },
    {
      "cell_type": "markdown",
      "source": [
        "## 9. Ох уж эти корейцы - 2.0\n",
        "\n",
        "Условие такое же, как и в задаче 8, но теперь вам предстоит решить такую же задачу с использованием <font color=\"#8000FF\"> `list comprehensions` </font>"
      ],
      "metadata": {
        "id": "0wcUgWpqMls_"
      }
    },
    {
      "cell_type": "code",
      "execution_count": 35,
      "metadata": {
        "id": "FyrL43m7Iptt"
      },
      "outputs": [],
      "source": [
        "new_age = [x+1 for x in ages]"
      ]
    },
    {
      "cell_type": "markdown",
      "source": [
        "## 10. Много разных строк.\n",
        "\n",
        "Напишите функцию` get_extended_string_info`, принимающую на вход строку, а на выход выдаёт **7 строк через запятую**, полученные из оригинальной соответствующим преобразованием:\n",
        "\n",
        "1. Самое длинное слово в строке\n",
        "2. Количество слов в строке\n",
        "3. Переворачивает каждое слово в строке задом наперёд\n",
        "4. Удаляет все цифры из строки\n",
        "5. Заменяет все буквы верхнего регистра на нижний, а нижнего регистра на верхний\n",
        "6. Проверяет, является ли строка палиндромом (без учета пробелов, регистра и пунктуации, те только буквы и цифры)\n",
        "7. Если строка не является палиндромом, то выводит первые 5 символов строки в обратном порядке\n",
        "\n",
        "Т.е.  первая строка - самое длинное слово в исходной строке, вторая строка - количество слов в исходной строке и.т.д."
      ],
      "metadata": {
        "id": "0nk0f2oSM-dx"
      }
    },
    {
      "cell_type": "code",
      "execution_count": 65,
      "metadata": {
        "id": "qD-0OsRZIpw3"
      },
      "outputs": [],
      "source": [
        "def get_extended_string_info(x):\n",
        "  words=x.split(' ')\n",
        "  the_longest=\"\"\n",
        "  lett=0\n",
        "  letters=list(x)\n",
        "  for i in words:\n",
        "    if len(i)>lett:\n",
        "      lett=len(i)\n",
        "      the_longest=i\n",
        "\n",
        "  rev=words[0][::-1]\n",
        "  for i in words[1:]:\n",
        "    rev+=\" \"\n",
        "    rev+=i[::-1]\n",
        "\n",
        "  letters_1=\"\".join([char.lower() if char.isupper() else char.upper() for char in letters])\n",
        "\n",
        "  without_dig=\"\"\n",
        "  for i in letters:\n",
        "    if not i.isdigit():\n",
        "      without_dig+=i\n",
        "\n",
        "  clear_list = [i.lower() for i in letters if i.isalpha() or i.isdigit()]\n",
        "  if \"\".join(clear_list) == \"\".join(clear_list[::-1]):\n",
        "    return [the_longest, len(words), letters_1, rev, without_dig, \"palindrom\"]\n",
        "\n",
        "  else:\n",
        "    return [the_longest, len(words), letters_1, rev, without_dig, \"not a palindrom\", \"\".join(letters[:-6:-1])]\n"
      ]
    },
    {
      "cell_type": "markdown",
      "source": [
        "## 11. Турецкие сериалы.\n",
        "\n",
        "Из администрации школы вам поступили списки турецких студентов, сдававших экзамены по математике и физике в виде словаря \"имя\": tuple(оценка по физике, оценка по математике)\n",
        "\n",
        "Если оценка ниже трех - студент не сдал, если ниже четырех - не получает стипендию. Если хотябы один предмет не сдан, то это отчисление\n",
        "\n",
        "1. <font color=\"#8000FF\"> С помощью comprehensions </font> сформируйте списки студентов, кто сдал экзамены на проход/стипу. Подумайте, какие категории вам нужны\n",
        "\n",
        "2. Сформируйте списки на стипендию и на отчисление"
      ],
      "metadata": {
        "id": "DSlSqjt0N0-3"
      }
    },
    {
      "cell_type": "code",
      "source": [
        "exam_scores = {\n",
        "    \"Serkan Bolat\": (3, 4),\n",
        "    \"Burak Deniz\": (5, 3),\n",
        "    \"Ahmet Yildirim\": (2, 5),\n",
        "    \"Merve Kaya\": (4, 4),\n",
        "    \"Emre Demir\": (2, 2),\n",
        "    \"Zeynep Arslan\": (3, 3),\n",
        "    \"Mustafa Yilmaz\": (5, 4),\n",
        "    \"Elif Ozdemir\": (4, 3),\n",
        "    \"Canan Karaca\": (2, 4),\n",
        "    \"Yusuf Sahin\": (5, 5),\n",
        "    \"Selin Cengiz\": (3, 2),\n",
        "    \"Kerem Gunes\": (4, 5),\n",
        "    \"Duru Aydin\": (3, 4),\n",
        "    \"Omer Yilmaz\": (2, 3),\n",
        "    \"Esra Uysal\": (4, 4),\n",
        "    \"Halil Yalcin\": (3, 3),\n",
        "    \"Ayse Yildirim\": (5, 4),\n",
        "    \"Fatma Demir\": (2, 2),\n",
        "    \"Ali Gokce\": (4, 3),\n",
        "    \"Cemre Erdem\": (3, 5)\n",
        "}\n"
      ],
      "metadata": {
        "id": "1Zf73sEgOC43"
      },
      "execution_count": 19,
      "outputs": []
    },
    {
      "cell_type": "code",
      "execution_count": 22,
      "metadata": {
        "id": "faZRQH5pIpzu",
        "colab": {
          "base_uri": "https://localhost:8080/"
        },
        "outputId": "81ff1da3-e0ca-4136-aeea-8fc344f6b25b"
      },
      "outputs": [
        {
          "output_type": "stream",
          "name": "stdout",
          "text": [
            "['Merve Kaya', 'Mustafa Yilmaz', 'Yusuf Sahin', 'Kerem Gunes', 'Esra Uysal', 'Ayse Yildirim']\n"
          ]
        }
      ],
      "source": [
        "drop_list=[i for i in exam_scores.keys() if exam_scores[i][0] == 2 or exam_scores[i][1] == 2]\n",
        "money_list=[i for i in exam_scores.keys() if exam_scores[i][0] >= 4 and exam_scores[i][1] >= 4]"
      ]
    },
    {
      "cell_type": "markdown",
      "source": [
        "## 12. Я у мамы разработчик.\n",
        "\n",
        "Возьмите функцию из задачи 10 и переиспользуйте её, чтобы получить количество слов в строке. Ненужные переменные запихните в `_` и `*_`"
      ],
      "metadata": {
        "id": "vfhNtLvpOLYn"
      }
    },
    {
      "cell_type": "code",
      "execution_count": 63,
      "metadata": {
        "id": "simmTOFbIp2V",
        "colab": {
          "base_uri": "https://localhost:8080/"
        },
        "outputId": "7ffc3095-eb15-46fc-a768-dc51c53e6db5"
      },
      "outputs": [
        {
          "output_type": "execute_result",
          "data": {
            "text/plain": [
              "5"
            ]
          },
          "metadata": {},
          "execution_count": 63
        }
      ],
      "source": [
        "def word_count(x):\n",
        "  _, y, *_ = get_extended_string_info(x)\n",
        "  return y"
      ]
    },
    {
      "cell_type": "markdown",
      "source": [
        "## 13. Не перевелись ещё богатыри на Руси! - часть 1.\n",
        "\n",
        "Вам дана очень длинная строка с фамилиями, отчествами и именами потенциальных богатырей.\n",
        "\n",
        "Ваша задача - <font color=\"#8000FF\">используя цикл for</font> получить список имён из неё, после чего вывести все **уникальные** имена."
      ],
      "metadata": {
        "id": "uFJ9mDlv1q9-"
      }
    },
    {
      "cell_type": "code",
      "execution_count": 28,
      "metadata": {
        "id": "w8gXe9q-oElJ"
      },
      "outputs": [],
      "source": [
        "slavic_names = '''\n",
        "Ратибор Васелинович Чеславов\n",
        "Веселин Истиславович Гремиславовский\n",
        "Хотимир Владимирович Жирославовский\n",
        "Бронислав Властимирович Бранимировский\n",
        "Васелин Граниславович Богданов\n",
        "Истислав Мутимирович Станиславов\n",
        "Вячеслав Велиградович Белославов\n",
        "Ярополк Хотимирович Станиславовский\n",
        "Тихомир Судиславович Васелинов\n",
        "Гранислав Истиславович Жирославов\n",
        "Белослав Мечиславович Мирославовский\n",
        "Властимир Богданович Гремиславов\n",
        "Гостевид Пересветович Мстиславов\n",
        "Бранимир Горисветович Велимиров\n",
        "Веселин Ратиборович Станиславов\n",
        "Вячеслав Истиславович Драгомыслов\n",
        "Васелин Велимирович Венцеславов\n",
        "Добромир Богославович Судиславов\n",
        "Тихомир Святославович Васелинов\n",
        "Вышеслав Граниславович Доброславов\n",
        "Драгомысл Ярославович Вышеславов\n",
        "Мечислав Гостевидович Станиславовский\n",
        "Градислав Веселинович Драгомыслов\n",
        "Доброслав Велимирович Святополков\n",
        "Пересвет Хотимирович Тихомиров\n",
        "Святослав Тихомирович Граниславов\n",
        "Жирослав Гремиславович Богославов\n",
        "Гранислав Перемыслович Васелинов\n",
        "Гостевид Хотимирович Ратиборов\n",
        "Гостевид Мутимирович Томиславов\n",
        "Тихомир Владимирович Веселинов\n",
        "Мстислав Хотимирович Истиславовский\n",
        "Чеслав Святополкович Веселинов\n",
        "Владимир Истиславович Властимиров\n",
        "Добромир Святополкович Доброжиров\n",
        "Томислав Истиславович Судиславовский\n",
        "Веселин Хотимирович Мстиславов\n",
        "Владимир Яромирович Судиславов\n",
        "Добромир Судиславович Жирославов\n",
        "Вышеслав Милорадович Белославовский\n",
        "Судислав Властимирович Бранимиров\n",
        "Перемысл Жирославович Бранимиров\n",
        "Драгомир Добромирович Мирославов\n",
        "Вячеслав Доброславович Судиславов\n",
        "Хотимир Перемыслович Богославов\n",
        "Веселин Мстиславович Ясномыслов\n",
        "Яромир Велиградович Истиславов\n",
        "Яромир Граниславович Веселиновский\n",
        "Ярослав Жирославович Святополков\n",
        "Горисвет Ярополкович Станиславовский\n",
        "'''\n",
        "\n"
      ]
    },
    {
      "cell_type": "code",
      "source": [
        "names_0 = slavic_names.split(\"\\n\")\n",
        "names=[]\n",
        "for name in names_0:\n",
        "  if name != \"\":\n",
        "    names.append(name.split(' ')[0])\n",
        "unique_names=[]\n",
        "for i in names:\n",
        "  if i not in unique_names:\n",
        "    unique_names.append(i)\n",
        "for j in unique_names:\n",
        "  print(j)"
      ],
      "metadata": {
        "colab": {
          "base_uri": "https://localhost:8080/"
        },
        "id": "VaXlMuSCR3P5",
        "outputId": "f75113e8-f561-49b7-8a47-6a49aa611c42"
      },
      "execution_count": 38,
      "outputs": [
        {
          "output_type": "stream",
          "name": "stdout",
          "text": [
            "\n",
            "Ратибор\n",
            "Веселин\n",
            "Хотимир\n",
            "Бронислав\n",
            "Васелин\n",
            "Истислав\n",
            "Вячеслав\n",
            "Ярополк\n",
            "Тихомир\n",
            "Гранислав\n",
            "Белослав\n",
            "Властимир\n",
            "Гостевид\n",
            "Бранимир\n",
            "Добромир\n",
            "Вышеслав\n",
            "Драгомысл\n",
            "Мечислав\n",
            "Градислав\n",
            "Доброслав\n",
            "Пересвет\n",
            "Святослав\n",
            "Жирослав\n",
            "Мстислав\n",
            "Чеслав\n",
            "Владимир\n",
            "Томислав\n",
            "Судислав\n",
            "Перемысл\n",
            "Драгомир\n",
            "Яромир\n",
            "Ярослав\n",
            "Горисвет\n"
          ]
        }
      ]
    },
    {
      "cell_type": "markdown",
      "source": [
        "## 14. Не перевелись ещё богатыри на Руси! - часть 2.\n",
        "\n",
        "Вам дана очень длинная строка с фамилиями, отчествами и именами потенциальных богатырей.\n",
        "\n",
        "Ваша задача - <font color=\"#8000FF\">при помощи list comprehensions</font> получить список имён из неё, после чего вывести все **уникальные** имена."
      ],
      "metadata": {
        "id": "fBDeNsjooWXD"
      }
    },
    {
      "cell_type": "code",
      "source": [
        "names_0 = slavic_names.split(\"\\n\")\n",
        "names=[name.split(' ')[0] for name in names_0][1:-1]\n",
        "unique_names=[]\n",
        "for i in names:\n",
        "  if i not in unique_names:\n",
        "    unique_names.append(i)\n",
        "for j in unique_names:\n",
        "  print(j)"
      ],
      "metadata": {
        "id": "55SRUaKLrdyR"
      },
      "execution_count": null,
      "outputs": []
    },
    {
      "cell_type": "markdown",
      "source": [
        "## 15. Генератор богатырских имён.\n",
        "\n",
        "\n",
        "Современные родители любят имена с духом старины. Проанализируйте список имён (именно имён, а не отчеств/фамилий) из задачи 13. Выделите (чисто визуально) 6 возможных начал имён и 6 возможных концов имён (например, Яро - начало, Полк - конец, а вместе имя - Ярополк) и напишите функцию `generate_random_old_slavic_name`, которая при помощи random.choice выдаёт случайное имя.\n",
        "\n",
        "При помощи цикла вызовите функцию 10 раз и выведите, что получилось."
      ],
      "metadata": {
        "id": "QLVpQyJnK5Bc"
      }
    },
    {
      "cell_type": "code",
      "source": [
        "import random\n",
        "def generate_random_old_slavic_name():\n",
        "    start_list=[\"Яро\", \"Тихо\", \"Брони\", \"Градо\", \"Власте\", \"Добро\" ]\n",
        "    end_list=[\"слав\", \"свет\", \"мысл\", \"мир\", \"лин\", \"полк\" ]\n",
        "    return random.choice(start_list)+random.choice(end_list)\n",
        "\n",
        "for _ in range(10):\n",
        "   print(generate_random_old_slavic_name())"
      ],
      "metadata": {
        "id": "0burcuqjMQ30",
        "colab": {
          "base_uri": "https://localhost:8080/"
        },
        "outputId": "cfa48486-fadb-493f-e141-635d830009f4"
      },
      "execution_count": 40,
      "outputs": [
        {
          "output_type": "stream",
          "name": "stdout",
          "text": [
            "Бронимир\n",
            "Добромир\n",
            "Градослав\n",
            "Тихополк\n",
            "Добролин\n",
            "Доброполк\n",
            "Бронимир\n",
            "Тихомир\n",
            "Добромир\n",
            "Градолин\n"
          ]
        }
      ]
    },
    {
      "cell_type": "markdown",
      "source": [
        "## 16. Один день, еще один, да один день - часть 1.\n",
        "\n",
        "Перед вами список некоторых князей Киевских и годы их правления.\n",
        "\n",
        "Ваша задача - <font color=\"#8000FF\">при помощи лямбда-функции и функции sort</font> отсортировать их в порядке возрастания количества лет, которых они провели на престоле."
      ],
      "metadata": {
        "id": "Td8QhrRJ_wdO"
      }
    },
    {
      "cell_type": "code",
      "source": [
        "rulers = [{\"name\": \"Олег Вещий\", \"year_start\": 882, \"year_end\": 912},\n",
        "          {\"name\": \"Игорь Рюрикович\", \"year_start\": 912, \"year_end\": 945},\n",
        "          {\"name\": \"Ольга\", \"year_start\": 945, \"year_end\": 960},\n",
        "          {\"name\": \"Святослав Игоревич\", \"year_start\": 945, \"year_end\": 972},\n",
        "          {\"name\": \"Ярополк Святославич\", \"year_start\": 972, \"year_end\": 978},\n",
        "          {\"name\": \"Владимир Святославич\", \"year_start\": 978, \"year_end\": 1015}]"
      ],
      "metadata": {
        "id": "oxgCN37HJEHk"
      },
      "execution_count": 14,
      "outputs": []
    },
    {
      "cell_type": "code",
      "source": [
        "sorted_rulers = rulers.sort(key=lambda x: x[\"year_end\"] - x[\"year_start\"])"
      ],
      "metadata": {
        "id": "WpbJzN82KUki"
      },
      "execution_count": 19,
      "outputs": []
    },
    {
      "cell_type": "markdown",
      "source": [
        "## 17. Один день, ещё один, да один день - часть 2.\n",
        "\n",
        "Перед вами список некоторых князей Киевских и годы их правления.\n",
        "\n",
        "Ваша задача - <font color=\"#8000FF\">при помощи лямбда-функции и функции filter</font> выбрать из них тех, кто правил дольше 17 лет или является Ольгой."
      ],
      "metadata": {
        "id": "VP2Nn03BKWOo"
      }
    },
    {
      "cell_type": "code",
      "source": [
        "filtered_rulers = list(filter(lambda x: \"Ольга\" in x[\"name\"] or (x[\"year_end\"] - x[\"year_start\"] >17), rulers))\n"
      ],
      "metadata": {
        "id": "hNkpXtt1KkDE",
        "colab": {
          "base_uri": "https://localhost:8080/"
        },
        "outputId": "4b73b999-366b-448b-9df0-e7537a80a4f6"
      },
      "execution_count": 17,
      "outputs": [
        {
          "output_type": "stream",
          "name": "stdout",
          "text": [
            "[{'name': 'Ольга', 'year_start': 945, 'year_end': 960}, {'name': 'Святослав Игоревич', 'year_start': 945, 'year_end': 972}, {'name': 'Олег Вещий', 'year_start': 882, 'year_end': 912}, {'name': 'Игорь Рюрикович', 'year_start': 912, 'year_end': 945}, {'name': 'Владимир Святославич', 'year_start': 978, 'year_end': 1015}]\n"
          ]
        }
      ]
    },
    {
      "cell_type": "markdown",
      "source": [
        "## 18. Кому на Руси жить хорошо - часть 1.\n",
        "\n",
        "*В Древней Руси больше всего боялись тех, кто отсидел, потому что тогда сажали на кол.*\n",
        "\n",
        "Перед вами два словаря - словарь `paid_money` - количество золота, сколько этот боярин заплатил в казну и словарь `real_money` - количество золота, которое реально заработал боярин.\n",
        "\n",
        "<font color=\"#8000FF\">При помощи цикла for</font> выведи список имён бояр, которые заплатили менее десятой части от своих настоящих доходов - это те бояре, которых в следующем месяце придётся посадить на кол."
      ],
      "metadata": {
        "id": "uQmzqitT9zCx"
      }
    },
    {
      "cell_type": "code",
      "source": [
        "paid_money = {\"Козьма Григорьевич\": 70,\n",
        "              \"Аврам Стефанович\": 101,\n",
        "              \"Захарий Григорьевич\": 15,\n",
        "              \"Онцифор Лукинич\": 208}\n",
        "\n",
        "real_money = {\"Козьма Григорьевич\": 1000,\n",
        "              \"Аврам Стефанович\": 900,\n",
        "              \"Захарий Григорьевич\": 400,\n",
        "              \"Онцифор Лукинич\": 2000}"
      ],
      "metadata": {
        "id": "x_QHMKex-DM-"
      },
      "execution_count": 21,
      "outputs": []
    },
    {
      "cell_type": "code",
      "source": [
        "for i in paid_money.keys():\n",
        "  if paid_money[i] < real_money[i]/10:\n",
        "   print(i)\n"
      ],
      "metadata": {
        "id": "_rXLJj8M-BlC",
        "colab": {
          "base_uri": "https://localhost:8080/"
        },
        "outputId": "e9964dff-1d61-4fd4-d936-6ce183f860bb"
      },
      "execution_count": 28,
      "outputs": [
        {
          "output_type": "stream",
          "name": "stdout",
          "text": [
            "Козьма Григорьевич\n",
            "Захарий Григорьевич\n"
          ]
        }
      ]
    },
    {
      "cell_type": "markdown",
      "source": [
        "## 19. Кому на Руси жить хорошо - часть 2.\n",
        "\n",
        "\n",
        "Перед вами два словаря - словарь `paid_money` - количество золота, сколько этот боярин заплатил в казну и словарь `real_money` - количество золота, которое реально заработал боярин.\n",
        "\n",
        "<font color=\"#8000FF\">При помощи list comprehension и условия</font> выведи список имён бояр, которые заплатили менее десятой части от своих настоящих доходов - это те бояре, которых в следующем месяце придётся посадить на кол."
      ],
      "metadata": {
        "id": "TAhHkr-mTY9d"
      }
    },
    {
      "cell_type": "code",
      "source": [
        "kol=[i for i in paid_money.keys() if paid_money[i] < real_money[i]/10]\n",
        "print(\"\\n\".join(kol))"
      ],
      "metadata": {
        "id": "ORqNSSsGl12r",
        "colab": {
          "base_uri": "https://localhost:8080/"
        },
        "outputId": "19d7b9b8-8282-407a-b2bd-fabfd1857a8d"
      },
      "execution_count": 31,
      "outputs": [
        {
          "output_type": "stream",
          "name": "stdout",
          "text": [
            "Козьма Григорьевич\n",
            "Захарий Григорьевич\n"
          ]
        }
      ]
    },
    {
      "cell_type": "markdown",
      "source": [
        "## 20. Здесь русский дух, здесь Русью пахнет... (2 балла)\n",
        "\n",
        "Вы задались задачей сделать самые русские духи. Для этого вы собрали несколько пробных ароматов из разных нот (ноты между ароматами могут повторяться) и провели опрос среди прохожих, спрашивая, насколько Русью пахнет данный аромат по шкале от 1 до 5 включительно.\n",
        "\n",
        "Перед вами часть ароматов и часть голосов - ваша задача:\n",
        "\n",
        "1. На основе ароматов определить множество **уникальных** нот в ароматах\n",
        "2. Определить среднее значение голосов за каждую **ноту**\n",
        "3. Вывести топ-3 ноты по среднему значению голосов - это и будут наши самые русские духи."
      ],
      "metadata": {
        "id": "_HJtKjsu2ABU"
      }
    },
    {
      "cell_type": "code",
      "source": [
        "fragrances = [{\"id\": 15, \"name\": \"Русалка\", \"notes\": \"кувшинки, вода, мох, мускус\"},\n",
        "              {\"id\": 16, \"name\": \"Жар-птица\", \"notes\": \"молоко, сандал, слива, перец\"},\n",
        "              {\"id\": 17, \"name\": \"Река-Смородина\", \"notes\": \"смородина, вода, молоко, мед\"},\n",
        "              {\"id\": 18, \"name\": \"Царевна-Лягушка\", \"notes\": \"можжевельник, вода, древесина, перец, кувшинки\"},\n",
        "              {\"id\": 19, \"name\": \"Василиса-Премудрая\", \"notes\": \"мед, яблоко, ветивер, мускус\"}]\n",
        "\n",
        "votes = [{'id': 2353, 'fragrance_id': 19, 'vote_res': 2}, {'id': 2354, 'fragrance_id': 15, 'vote_res': 2}, {'id': 2355, 'fragrance_id': 18, 'vote_res': 1}, {'id': 2356, 'fragrance_id': 19, 'vote_res': 4}, {'id': 2357, 'fragrance_id': 16, 'vote_res': 4}, {'id': 2358, 'fragrance_id': 16, 'vote_res': 1}, {'id': 2359, 'fragrance_id': 18, 'vote_res': 1}, {'id': 2360, 'fragrance_id': 15, 'vote_res': 5}, {'id': 2361, 'fragrance_id': 18, 'vote_res': 5}, {'id': 2362, 'fragrance_id': 16, 'vote_res': 4}, {'id': 2363, 'fragrance_id': 19, 'vote_res': 2}, {'id': 2364, 'fragrance_id': 17, 'vote_res': 1}, {'id': 2365, 'fragrance_id': 15, 'vote_res': 1}, {'id': 2366, 'fragrance_id': 18, 'vote_res': 5}, {'id': 2367, 'fragrance_id': 19, 'vote_res': 3}, {'id': 2368, 'fragrance_id': 17, 'vote_res': 1}, {'id': 2369, 'fragrance_id': 18, 'vote_res': 1}, {'id': 2370, 'fragrance_id': 18, 'vote_res': 3}, {'id': 2371, 'fragrance_id': 15, 'vote_res': 2}, {'id': 2372, 'fragrance_id': 17, 'vote_res': 2}, {'id': 2373, 'fragrance_id': 16, 'vote_res': 2}, {'id': 2374, 'fragrance_id': 18, 'vote_res': 3}, {'id': 2375, 'fragrance_id': 19, 'vote_res': 1}, {'id': 2376, 'fragrance_id': 16, 'vote_res': 1}, {'id': 2377, 'fragrance_id': 16, 'vote_res': 2}, {'id': 2378, 'fragrance_id': 16, 'vote_res': 3}, {'id': 2379, 'fragrance_id': 18, 'vote_res': 2}, {'id': 2380, 'fragrance_id': 18, 'vote_res': 5}, {'id': 2381, 'fragrance_id': 15, 'vote_res': 3}, {'id': 2382, 'fragrance_id': 19, 'vote_res': 5}, {'id': 2383, 'fragrance_id': 17, 'vote_res': 4}, {'id': 2384, 'fragrance_id': 18, 'vote_res': 5}, {'id': 2385, 'fragrance_id': 19, 'vote_res': 3}, {'id': 2386, 'fragrance_id': 17, 'vote_res': 3}, {'id': 2387, 'fragrance_id': 17, 'vote_res': 5}, {'id': 2388, 'fragrance_id': 18, 'vote_res': 1}, {'id': 2389, 'fragrance_id': 19, 'vote_res': 1}, {'id': 2390, 'fragrance_id': 15, 'vote_res': 1}, {'id': 2391, 'fragrance_id': 19, 'vote_res': 5}, {'id': 2392, 'fragrance_id': 15, 'vote_res': 2}, {'id': 2393, 'fragrance_id': 15, 'vote_res': 3}, {'id': 2394, 'fragrance_id': 17, 'vote_res': 5}, {'id': 2395, 'fragrance_id': 15, 'vote_res': 5}, {'id': 2396, 'fragrance_id': 17, 'vote_res': 2}, {'id': 2397, 'fragrance_id': 15, 'vote_res': 5}, {'id': 2398, 'fragrance_id': 17, 'vote_res': 5}, {'id': 2399, 'fragrance_id': 18, 'vote_res': 4}, {'id': 2400, 'fragrance_id': 16, 'vote_res': 1}, {'id': 2401, 'fragrance_id': 17, 'vote_res': 5}, {'id': 2402, 'fragrance_id': 16, 'vote_res': 3}]"
      ],
      "metadata": {
        "id": "zvkU2KEy2WH8"
      },
      "execution_count": 33,
      "outputs": []
    },
    {
      "cell_type": "code",
      "source": [
        "frag_uniq=set([])\n",
        "for i in fragrances:\n",
        "  for x in i[\"notes\"].split(\", \"):\n",
        "    frag_uniq.add(x)\n",
        "dict_notes={i: [0, 0] for i in list(frag_uniq)}\n",
        "for note in list(frag_uniq):\n",
        "  for i in range(15, 20):\n",
        "    for d in fragrances:\n",
        "      if d[\"id\"] == i and note in d[\"notes\"]:\n",
        "        for vote in votes:\n",
        "          if vote['fragrance_id'] == i:\n",
        "            dict_notes[note][0] += vote['vote_res']\n",
        "            dict_notes[note][1] += 1\n",
        "for note in dict_notes:\n",
        "  dict_notes[note] = dict_notes[note][0]/dict_notes[note][1]\n",
        "\n",
        "dict_notes_sorted = sorted(dict_notes.items(), key=lambda item: item[1])\n",
        "print(\"\\n\".join([x[0] for x in dict_notes_sorted[:-4:-1]]))"
      ],
      "metadata": {
        "id": "vG9JTNLM4eSE",
        "colab": {
          "base_uri": "https://localhost:8080/"
        },
        "outputId": "6b5d95be-9acf-493e-a4fe-460e0c6eae8a"
      },
      "execution_count": 47,
      "outputs": [
        {
          "output_type": "stream",
          "name": "stdout",
          "text": [
            "смородина\n",
            "мед\n",
            "вода\n"
          ]
        }
      ]
    }
  ]
}